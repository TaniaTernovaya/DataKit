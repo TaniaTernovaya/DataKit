{
 "cells": [
  {
   "attachments": {},
   "cell_type": "markdown",
   "metadata": {},
   "source": [
    "1. нужно скандировать матрицу 5*5, которая состоит из различных чисел. скандировать значит получить доступ к элементам матрицы последовательно"
   ]
  },
  {
   "cell_type": "code",
   "execution_count": 12,
   "metadata": {},
   "outputs": [
    {
     "name": "stdout",
     "output_type": "stream",
     "text": [
      "[[ 0  1  2  3  4]\n",
      " [ 5  6  7  8  9]\n",
      " [10 11 12 13 14]\n",
      " [15 16 17 18 19]\n",
      " [20 21 22 23 24]]\n"
     ]
    }
   ],
   "source": [
    "import numpy as np\n",
    "a = np.arange(25).reshape((5,5))\n",
    "print(a)"
   ]
  },
  {
   "attachments": {},
   "cell_type": "markdown",
   "metadata": {},
   "source": [
    "2. какие принципи ООП ты знаешь\n",
    "\n",
    "Ответ: наследование, полиморфизм и инкапсуляция (+абстракция)"
   ]
  },
  {
   "attachments": {},
   "cell_type": "markdown",
   "metadata": {},
   "source": [
    "3. Какие магические методы в Пайтон знаешь?\n",
    "Ответ: len,арифметические операции, getiter, getater,str, repr"
   ]
  },
  {
   "attachments": {},
   "cell_type": "markdown",
   "metadata": {},
   "source": [
    "4. Чем отличается str, repr?"
   ]
  },
  {
   "attachments": {},
   "cell_type": "markdown",
   "metadata": {},
   "source": [
    "5. Зачем нужен self..."
   ]
  },
  {
   "attachments": {},
   "cell_type": "markdown",
   "metadata": {},
   "source": [
    "6. Зачем метод dir для обьектов"
   ]
  },
  {
   "attachments": {},
   "cell_type": "markdown",
   "metadata": {},
   "source": [
    "7. В чем отличие методов apply applymap Pandas?"
   ]
  },
  {
   "attachments": {},
   "cell_type": "markdown",
   "metadata": {},
   "source": [
    "8. Продолжи: try except ...."
   ]
  },
  {
   "attachments": {},
   "cell_type": "markdown",
   "metadata": {},
   "source": [
    "9. В чем разница между листом и кортежем?"
   ]
  },
  {
   "attachments": {},
   "cell_type": "markdown",
   "metadata": {},
   "source": [
    "10. Зачем нужен yield вместо return?"
   ]
  },
  {
   "attachments": {},
   "cell_type": "markdown",
   "metadata": {},
   "source": [
    "11. В чем различие loc и iloc?\n",
    "\n",
    "атрибут loc позволяет выполнить индексацию и срезы с использованием явного индекса.\n",
    "атрибут iloc позволяет выполнить срезы и индексацию с использование неявного индекса в стиле языка пайтон"
   ]
  },
  {
   "attachments": {},
   "cell_type": "markdown",
   "metadata": {},
   "source": [
    "12. Что делает transform в dataframe"
   ]
  },
  {
   "attachments": {},
   "cell_type": "markdown",
   "metadata": {},
   "source": [
    "13. В чем разница между pivot и pivottable в пандас"
   ]
  },
  {
   "attachments": {},
   "cell_type": "markdown",
   "metadata": {},
   "source": [
    "14. Написать программу которая на вход принимает строку и разворачивает ее"
   ]
  },
  {
   "cell_type": "code",
   "execution_count": 13,
   "metadata": {},
   "outputs": [
    {
     "ename": "TypeError",
     "evalue": "'str' object cannot be interpreted as an integer",
     "output_type": "error",
     "traceback": [
      "\u001b[0;31m---------------------------------------------------------------------------\u001b[0m",
      "\u001b[0;31mTypeError\u001b[0m                                 Traceback (most recent call last)",
      "Cell \u001b[0;32mIn[13], line 4\u001b[0m\n\u001b[1;32m      1\u001b[0m \u001b[39mdef\u001b[39;00m \u001b[39mreverse\u001b[39m(\u001b[39mstr\u001b[39m):\n\u001b[1;32m      2\u001b[0m     \u001b[39mreturn\u001b[39;00m \u001b[39mbin\u001b[39m(\u001b[39mstr\u001b[39m[::\u001b[39m-\u001b[39m\u001b[39m1\u001b[39m])\n\u001b[0;32m----> 4\u001b[0m \u001b[39mprint\u001b[39m(reverse(\u001b[39m'\u001b[39;49m\u001b[39mtania\u001b[39;49m\u001b[39m'\u001b[39;49m))\n",
      "Cell \u001b[0;32mIn[13], line 2\u001b[0m, in \u001b[0;36mreverse\u001b[0;34m(str)\u001b[0m\n\u001b[1;32m      1\u001b[0m \u001b[39mdef\u001b[39;00m \u001b[39mreverse\u001b[39m(\u001b[39mstr\u001b[39m):\n\u001b[0;32m----> 2\u001b[0m     \u001b[39mreturn\u001b[39;00m \u001b[39mbin\u001b[39;49m(\u001b[39mstr\u001b[39;49m[::\u001b[39m-\u001b[39;49m\u001b[39m1\u001b[39;49m])\n",
      "\u001b[0;31mTypeError\u001b[0m: 'str' object cannot be interpreted as an integer"
     ]
    }
   ],
   "source": [
    "def reverse(str):\n",
    "    return bin(str[::-1])\n",
    "\n",
    "print(reverse('tania'))"
   ]
  },
  {
   "attachments": {},
   "cell_type": "markdown",
   "metadata": {},
   "source": [
    "15. Что такое бинарный поиск - это алгоритм. На входе он получает отсортированный массив. Если искомый элемент находится в списке, то возвращается индекс искомого элемента. в противном случае возвращает null.\n",
    "Допустим мне нужно найти элемент из 100. Сначала мы отсекаем половину, остается искать среди 50. Затем еще половину, 25, еще половину, 13, еще половину, 7, еще половину, 4, еще половину, 2 и наконец 1. То есть найти элемент из 100 мы можем найти не более чем за 7 раз. \n",
    "В случае с n элементами, бинарный поиск выполняется за не более чем log_2(n) раз\n",
    "\n",
    "следующий код применяется только к отсортированному массиву"
   ]
  },
  {
   "cell_type": "code",
   "execution_count": 31,
   "metadata": {},
   "outputs": [
    {
     "name": "stdout",
     "output_type": "stream",
     "text": [
      "None\n"
     ]
    }
   ],
   "source": [
    "def binary_search(array,el):\n",
    "    low = 0\n",
    "    high = len(array)-1\n",
    "    while low <= high:\n",
    "        mid = (low + high)//2\n",
    "        guess = array[mid]\n",
    "        if guess == el:\n",
    "            return mid\n",
    "        if guess > el:\n",
    "            high = mid - 1\n",
    "        else:\n",
    "            low = mid + 1\n",
    "    return None\n",
    "\n",
    "my_array = [1,3,5,7,9,10]\n",
    "print(binary_search(my_array,11))"
   ]
  },
  {
   "attachments": {},
   "cell_type": "markdown",
   "metadata": {},
   "source": [
    "16. O большое описывает насколько быстро работает алгоритм. Измеряется в темпах роста кол-ва операций.\n",
    "Время выполнения программы будет линейным если кол-во максимальных циклов выполнения совпадает с кол-вом элементов входящего массива. Например, при простом поиске элемента из массива макс кол-во попыток совпадает с кол-вом элементов массива - тогда это линейное время выполнения O(n)\n",
    "В случае с бинарным поиском максимальное кол-во попыток равно лог по основанию 2 от n. Тогда время выполнения O(log_2(n))\n",
    "\n",
    "\n",
    "5 основных разновидностей О большого:\n",
    "1) О(n)\n",
    "2) O(log(n))\n",
    "3) O(nlog(n))\n",
    "4) O(n!)\n",
    "5) O(n^2)\n"
   ]
  }
 ],
 "metadata": {
  "kernelspec": {
   "display_name": ".venv",
   "language": "python",
   "name": "python3"
  },
  "language_info": {
   "codemirror_mode": {
    "name": "ipython",
    "version": 3
   },
   "file_extension": ".py",
   "mimetype": "text/x-python",
   "name": "python",
   "nbconvert_exporter": "python",
   "pygments_lexer": "ipython3",
   "version": "3.10.10"
  },
  "orig_nbformat": 4
 },
 "nbformat": 4,
 "nbformat_minor": 2
}
