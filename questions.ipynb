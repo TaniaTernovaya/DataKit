{
 "cells": [
  {
   "attachments": {},
   "cell_type": "markdown",
   "metadata": {},
   "source": [
    "1. нужно скандировать матрицу 5*5, которая состоит из различных чисел. скандировать значит получить доступ к элементам матрицы последовательно"
   ]
  },
  {
   "cell_type": "code",
   "execution_count": 12,
   "metadata": {},
   "outputs": [
    {
     "name": "stdout",
     "output_type": "stream",
     "text": [
      "[[ 0  1  2  3  4]\n",
      " [ 5  6  7  8  9]\n",
      " [10 11 12 13 14]\n",
      " [15 16 17 18 19]\n",
      " [20 21 22 23 24]]\n"
     ]
    }
   ],
   "source": [
    "import numpy as np\n",
    "a = np.arange(25).reshape((5,5))\n",
    "print(a)"
   ]
  },
  {
   "attachments": {},
   "cell_type": "markdown",
   "metadata": {},
   "source": [
    "2. какие принципи ООП ты знаешь\n",
    "\n",
    "Ответ: наследование, полиморфизм и инкапсуляция (+абстракция)"
   ]
  },
  {
   "attachments": {},
   "cell_type": "markdown",
   "metadata": {},
   "source": [
    "3. Какие магические методы в Пайтон знаешь?\n",
    "Ответ: len,арифметические операции, getiter, getater,str, repr"
   ]
  },
  {
   "attachments": {},
   "cell_type": "markdown",
   "metadata": {},
   "source": [
    "4. Чем отличается str, repr?"
   ]
  },
  {
   "attachments": {},
   "cell_type": "markdown",
   "metadata": {},
   "source": [
    "5. Зачем нужен self..."
   ]
  },
  {
   "attachments": {},
   "cell_type": "markdown",
   "metadata": {},
   "source": [
    "6. Зачем метод dir для обьектов"
   ]
  },
  {
   "attachments": {},
   "cell_type": "markdown",
   "metadata": {},
   "source": [
    "7. В чем отличие методов apply applymap Pandas?"
   ]
  },
  {
   "attachments": {},
   "cell_type": "markdown",
   "metadata": {},
   "source": [
    "8. Продолжи: try except ...."
   ]
  },
  {
   "attachments": {},
   "cell_type": "markdown",
   "metadata": {},
   "source": [
    "9. В чем разница между листом и кортежем?"
   ]
  },
  {
   "attachments": {},
   "cell_type": "markdown",
   "metadata": {},
   "source": [
    "10. Зачем нужен yield вместо return?"
   ]
  },
  {
   "attachments": {},
   "cell_type": "markdown",
   "metadata": {},
   "source": [
    "11. В чем различие loc и iloc?\n",
    "\n",
    "атрибут loc позволяет выполнить индексацию и срезы с использованием явного индекса.\n",
    "атрибут iloc позволяет выполнить срезы и индексацию с использование неявного индекса в стиле языка пайтон"
   ]
  },
  {
   "attachments": {},
   "cell_type": "markdown",
   "metadata": {},
   "source": [
    "12. Что делает transform в dataframe"
   ]
  },
  {
   "attachments": {},
   "cell_type": "markdown",
   "metadata": {},
   "source": [
    "13. В чем разница между pivot и pivottable в пандас"
   ]
  },
  {
   "attachments": {},
   "cell_type": "markdown",
   "metadata": {},
   "source": [
    "14. Написать программу которая на вход принимает строку и разворачивает ее"
   ]
  },
  {
   "cell_type": "code",
   "execution_count": 2,
   "metadata": {},
   "outputs": [
    {
     "name": "stdout",
     "output_type": "stream",
     "text": [
      "ainat\n"
     ]
    }
   ],
   "source": [
    "def reverse(str):\n",
    "    return str[::-1]\n",
    "\n",
    "print(reverse('tania'))"
   ]
  },
  {
   "attachments": {},
   "cell_type": "markdown",
   "metadata": {},
   "source": [
    "15. Что такое бинарный поиск - это алгоритм. На входе он получает отсортированный массив. Если искомый элемент находится в списке, то возвращается индекс искомого элемента. в противном случае возвращает null.\n",
    "Допустим мне нужно найти элемент из 100. Сначала мы отсекаем половину, остается искать среди 50. Затем еще половину, 25, еще половину, 13, еще половину, 7, еще половину, 4, еще половину, 2 и наконец 1. То есть найти элемент из 100 мы можем найти не более чем за 7 раз. \n",
    "В случае с n элементами, бинарный поиск выполняется за не более чем log_2(n) раз\n",
    "\n",
    "следующий код применяется только к отсортированному массиву"
   ]
  },
  {
   "cell_type": "code",
   "execution_count": 3,
   "metadata": {},
   "outputs": [
    {
     "name": "stdout",
     "output_type": "stream",
     "text": [
      "None\n"
     ]
    }
   ],
   "source": [
    "def binary_search(array,el):\n",
    "    low = 0\n",
    "    high = len(array)-1\n",
    "    while low <= high:\n",
    "        mid = (low + high)//2\n",
    "        guess = array[mid]\n",
    "        if guess == el:\n",
    "            return mid\n",
    "        if guess > el:\n",
    "            high = mid - 1\n",
    "        else:\n",
    "            low = mid + 1\n",
    "    return None\n",
    "\n",
    "my_array = [1,3,5,7,9,10]\n",
    "print(binary_search(my_array,11))"
   ]
  },
  {
   "attachments": {},
   "cell_type": "markdown",
   "metadata": {},
   "source": [
    "16. O большое описывает насколько быстро работает алгоритм. Измеряется в темпах роста кол-ва операций.\n",
    "Время выполнения программы будет линейным если кол-во максимальных циклов выполнения совпадает с кол-вом элементов входящего массива. Например, при простом поиске элемента из массива макс кол-во попыток совпадает с кол-вом элементов массива - тогда это линейное время выполнения O(n)\n",
    "В случае с бинарным поиском максимальное кол-во попыток равно лог по основанию 2 от n. Тогда время выполнения O(log_2(n))\n",
    "\n",
    "\n",
    "5 основных разновидностей О большого:\n",
    "1) О(n)\n",
    "2) O(log(n))\n",
    "3) O(nlog(n))\n",
    "4) O(n!)\n",
    "5) O(n^2)\n"
   ]
  },
  {
   "attachments": {},
   "cell_type": "markdown",
   "metadata": {},
   "source": [
    "17. напишем функцию для поиска наименьшего элемента массива"
   ]
  },
  {
   "cell_type": "code",
   "execution_count": 4,
   "metadata": {},
   "outputs": [
    {
     "data": {
      "text/plain": [
       "-4"
      ]
     },
     "execution_count": 4,
     "metadata": {},
     "output_type": "execute_result"
    }
   ],
   "source": [
    "def find_smallest(list):\n",
    "    smallest_el = list[0]\n",
    "    smallest_index = 0\n",
    "    for el in range(1,len(list)):\n",
    "        if list[el]<smallest_el:\n",
    "            smallest_index = el\n",
    "            smallest_el = list[el]\n",
    "    return smallest_el\n",
    "\n",
    "\n",
    "find_smallest([3,45,6,7,8,10,-4,89,-2])"
   ]
  },
  {
   "attachments": {},
   "cell_type": "markdown",
   "metadata": {},
   "source": [
    "18. СОРТИРОВКА ВЫБОРОМ (темп выполнения O(n^2))\n",
    "На основе этой функции написать функцию сортировки выбором(selection sort)"
   ]
  },
  {
   "cell_type": "code",
   "execution_count": 5,
   "metadata": {},
   "outputs": [
    {
     "data": {
      "text/plain": [
       "[-4, -2, 3, 6, 7, 8, 10, 45, 89]"
      ]
     },
     "execution_count": 5,
     "metadata": {},
     "output_type": "execute_result"
    }
   ],
   "source": [
    "def selection_sort(arr):\n",
    "    newArr=[]\n",
    "    for i in range(len(arr)):\n",
    "        smallest_el = find_smallest(arr)\n",
    "        newArr.append(smallest_el)\n",
    "        arr.remove(smallest_el)\n",
    "    return newArr\n",
    "\n",
    "selection_sort([3,45,6,7,8,10,-4,89,-2])"
   ]
  },
  {
   "attachments": {},
   "cell_type": "markdown",
   "metadata": {},
   "source": [
    "19. Псевдокод - это высокоуровневое описание решаемой задачи"
   ]
  },
  {
   "attachments": {},
   "cell_type": "markdown",
   "metadata": {},
   "source": [
    "20. Рекурсия - это когда функция вызывает саму себя. В каждой рекурсивной функции должно быть 2 случая (базовый и рекурсивный). Все вызовы функций сохраняются в стеке вызовов."
   ]
  },
  {
   "attachments": {},
   "cell_type": "markdown",
   "metadata": {},
   "source": [
    "21. Поиск ключа в коробке с коробками. Алгоритм 1:\n",
    "сначала мы берем все коробку с коробками\n",
    "пока коробки еще есть:\n",
    "для каждой коробки в этой куче:\n",
    "если предмет внутри коробки оказался коробкой - возвращаем в кучу\n",
    "если предмет оказался ключом мы нашли ключ"
   ]
  },
  {
   "cell_type": "code",
   "execution_count": 6,
   "metadata": {},
   "outputs": [],
   "source": [
    "def look_for_key(main_box):\n",
    "    pile = main_box.make_a_pile_to_look_through()\n",
    "    while pile is not empty:\n",
    "        box=pile.grab_a_box()\n",
    "        for item in box:\n",
    "            if item.is_a_box():\n",
    "                pile.append(item)\n",
    "            elif item.is_a_key():\n",
    "                print(\"found the key\")"
   ]
  },
  {
   "attachments": {},
   "cell_type": "markdown",
   "metadata": {},
   "source": [
    "Второй способ (основан на рекурсии):\n",
    "сначала мы берем коробку с коробками и проверяем каждый элемент в нем:\n",
    "если элемент оказался коробкой, повторяем пунукт 1\n",
    "иначе мы нашли ключ"
   ]
  },
  {
   "cell_type": "code",
   "execution_count": null,
   "metadata": {},
   "outputs": [],
   "source": [
    "def look_for_key(box):\n",
    "    for item in box:\n",
    "        if item.is_a_box():\n",
    "            look_for_key(item)\n",
    "        elif item.is_a_key():\n",
    "            print(\"found the key\")"
   ]
  },
  {
   "attachments": {},
   "cell_type": "markdown",
   "metadata": {},
   "source": [
    "22. Алгоритм Эвклида - подход к решению задач \"Разделяй и властвуй\"\n",
    "1. сначала определяем базовый случай\n",
    "2. придумываем как свести задачу к базовому случаю.\n",
    "Например нужно покрыть прямоугольник максимально большими квадратами. \n",
    "Базовый случай когда длина кратна ширине\n",
    "откладывае ширину по длине пока есть место. дальше проделываем эту же процедуру в оставшимся прямоугольником. пока не получим базовый случай"
   ]
  },
  {
   "attachments": {},
   "cell_type": "markdown",
   "metadata": {},
   "source": [
    "23. Как посчитать сумму чисел в массиве используя рекурсию\n",
    "базовый случай это пустой список. сумма равна нулю.\n",
    "если список пуст то сумма равна 0\n",
    "в противном случае: к первому числу списка прибавлять сумму оставшихся\n"
   ]
  },
  {
   "cell_type": "code",
   "execution_count": null,
   "metadata": {},
   "outputs": [
    {
     "data": {
      "text/plain": [
       "7"
      ]
     },
     "execution_count": 6,
     "metadata": {},
     "output_type": "execute_result"
    }
   ],
   "source": [
    "def sum(arr):\n",
    "    if arr == []:\n",
    "        return 0\n",
    "    else:\n",
    "        return arr[0]+sum(arr[1:])\n",
    "    \n",
    "sum([2,4,1])"
   ]
  },
  {
   "attachments": {},
   "cell_type": "markdown",
   "metadata": {},
   "source": [
    "24. напишите рекурсивную функцию для подсчета элементов в списке"
   ]
  },
  {
   "cell_type": "code",
   "execution_count": null,
   "metadata": {},
   "outputs": [],
   "source": [
    "def count_el()\n"
   ]
  },
  {
   "attachments": {},
   "cell_type": "markdown",
   "metadata": {},
   "source": [
    "25. Какие методы предотвращения переобучения (регуляризации) для нейронных сетей вы знаете? Как они работают? Куда вставлять batch normalization? \n"
   ]
  },
  {
   "attachments": {},
   "cell_type": "markdown",
   "metadata": {},
   "source": [
    "26. — Чем отличается нейронная сеть с одним выходом и сигмоидальной функции активации и такая же нейронная сеть, но с двумя выходами и softmax? "
   ]
  },
  {
   "attachments": {},
   "cell_type": "markdown",
   "metadata": {},
   "source": [
    "27. — Представим, что у нас есть многослойная полносвязанная сеть с нелинейной функцией активации. Что будет с нейронной сетью, если мы уберём нелинейность?\n"
   ]
  },
  {
   "attachments": {},
   "cell_type": "markdown",
   "metadata": {},
   "source": [
    "28. — Для чего используют global pooling? \n"
   ]
  },
  {
   "attachments": {},
   "cell_type": "markdown",
   "metadata": {},
   "source": [
    "29. — Как оценивают качество в задачах object detection? \n"
   ]
  },
  {
   "attachments": {},
   "cell_type": "markdown",
   "metadata": {},
   "source": [
    "30. — Какие архитектуры нейронных сетей для семантической сегментации вы знаете?"
   ]
  },
  {
   "attachments": {},
   "cell_type": "markdown",
   "metadata": {},
   "source": [
    "31. — Как и зачем использовать transfer learning?"
   ]
  },
  {
   "attachments": {},
   "cell_type": "markdown",
   "metadata": {},
   "source": [
    "32. — Как правильно тестировать качество моделей в работе с временными рядами? "
   ]
  },
  {
   "attachments": {},
   "cell_type": "markdown",
   "metadata": {},
   "source": [
    "33. — Что мы должны делать с сезонностью в данных? "
   ]
  },
  {
   "attachments": {},
   "cell_type": "markdown",
   "metadata": {},
   "source": [
    "34. — Как искать аномалии во временных рядах? "
   ]
  },
  {
   "attachments": {},
   "cell_type": "markdown",
   "metadata": {},
   "source": [
    "35. — Что лежит в основе моделирования тематик? Как работает этот алгоритм? Как вы выберете число тематик, которые будут обучаться этим алгоритмом?"
   ]
  },
  {
   "attachments": {},
   "cell_type": "markdown",
   "metadata": {},
   "source": [
    "36. — У вас есть текст отзывов и рейтинг, пользователи используют 5-балльную шкалу. Как бы вы построили систему, которая сможет предсказывать оценку по тексту отзыва? Как оценивать качество этой системы? \n"
   ]
  },
  {
   "attachments": {},
   "cell_type": "markdown",
   "metadata": {},
   "source": [
    "37. БЫСТРАЯ СОРТИРОВКА - метод сортировке основан на рекурсии. Темп выполнения (в худшем случае O(n^2) в среднем O(nlogn))\n",
    "Допустим у меня есть массив из 5 элементов. Я выбираю опорный элемент и разделяю массив на два подмассива (первый: все элементы меньше опорного и второй: все элементы больше опорного). и к каждому из подмассивова также применяю быструю сортировку.\n",
    "в качестве опорного элемента лучше выбирать случайный элемент это приведет к тому что быстрая сортировка завершится за O(nlogn)"
   ]
  },
  {
   "attachments": {},
   "cell_type": "markdown",
   "metadata": {},
   "source": [
    "38. Написать функцию для быстрой сортировки\n"
   ]
  },
  {
   "cell_type": "code",
   "execution_count": 9,
   "metadata": {},
   "outputs": [
    {
     "name": "stdout",
     "output_type": "stream",
     "text": [
      "[2, 3, 5, 10]\n"
     ]
    }
   ],
   "source": [
    "def quicksort(array):\n",
    "    if len(array)<2:\n",
    "        return array\n",
    "    else:\n",
    "        pivot = array[0]\n",
    "        less = [i for i in array[1:] if i <= pivot]\n",
    "        greater = [i for i in array[1:] if i > pivot]\n",
    "    return quicksort(less) + [pivot] + quicksort(greater)\n",
    "print(quicksort([10,5,2,3]))\n"
   ]
  },
  {
   "attachments": {},
   "cell_type": "markdown",
   "metadata": {},
   "source": [
    "39. СОРТИРОВКА СЛИЯНИЕМ средний темп выполнения O(nlogn)\n",
    "суть: сначала разбиваем множества на подмножества до тех пор пока не получим подмножества выставленными в порядке возрастания.\n",
    "затем начинаем сливания. Например 3,9,-2,4,5,10,12 -> (3,9), (-2,4), (5,10), 12 -> (-2,3,4,9), (5,10,12) -> (-2,3,4,5,9,10,12)"
   ]
  },
  {
   "cell_type": "code",
   "execution_count": null,
   "metadata": {},
   "outputs": [],
   "source": [
    "40. Написать функцию сортировки слиянием"
   ]
  },
  {
   "cell_type": "code",
   "execution_count": 24,
   "metadata": {},
   "outputs": [],
   "source": [
    "def merge_list(a,b):\n",
    "    c=[]\n",
    "    N=len(a)\n",
    "    M=len(b)\n",
    "    i = 0\n",
    "    j = 0\n",
    "    while (i < N) and (j<M):\n",
    "        if a[i] <= b[j]:\n",
    "            c.append(a[i])\n",
    "            i+=1\n",
    "        else:\n",
    "            c.append(b[j])\n",
    "            j+=1\n",
    "    c += a[i:] + b[j:]\n",
    "    return c"
   ]
  },
  {
   "cell_type": "code",
   "execution_count": 26,
   "metadata": {},
   "outputs": [
    {
     "name": "stdout",
     "output_type": "stream",
     "text": [
      "[-5, 2, 3, 6, 7]\n"
     ]
    }
   ],
   "source": [
    "def split_and_merge_list(a):\n",
    "    N1 = len(a)//2\n",
    "    a1 = a[:N1]\n",
    "    a2 = a[N1:]\n",
    "    if len(a1)>1:\n",
    "        a1 = split_and_merge_list(a1)\n",
    "    if len(a2)>1:\n",
    "        a2 = split_and_merge_list(a2)\n",
    "    return merge_list(a1,a2)\n",
    "\n",
    "a = [2,3,-5,6,7]\n",
    "print(split_and_merge_list(a))"
   ]
  },
  {
   "attachments": {},
   "cell_type": "markdown",
   "metadata": {},
   "source": [
    "41. ХЕШ-таблицы (словарь). Это функция которая получает на вход строку и возвращает число (индекс) ячейки памяти в которой хранится эта строка. Хороши для моделирования отношения между обьектами, устранения дубликатов. В идеале хеш-функция должна распределять ключи равномерно по всему хешу.\n",
    "\n",
    "Хеширование - преобразоваие данных любой длины в данные фиксированной длины"
   ]
  },
  {
   "attachments": {},
   "cell_type": "markdown",
   "metadata": {},
   "source": [
    "42. Функция для проверки дубликата в списке голосовавших"
   ]
  },
  {
   "cell_type": "code",
   "execution_count": null,
   "metadata": {},
   "outputs": [],
   "source": [
    "def check_ducblicat(name):\n",
    "    voted = {}\n",
    "    if voted.get(name):\n",
    "        print('Kick them out!')\n",
    "    else:\n",
    "        voted[name]=True\n",
    "        print('let them vote')\n",
    "    "
   ]
  },
  {
   "attachments": {},
   "cell_type": "markdown",
   "metadata": {},
   "source": [
    "43. Кеширование - механизм хранения данных для ускорения работы сервера. Кешируемые данные хранятся в хеше."
   ]
  },
  {
   "attachments": {},
   "cell_type": "markdown",
   "metadata": {},
   "source": [
    "44. КОЛЛИЗИЦИ"
   ]
  },
  {
   "attachments": {},
   "cell_type": "markdown",
   "metadata": {},
   "source": [
    "45. ГРАФ это набор связей"
   ]
  },
  {
   "attachments": {},
   "cell_type": "markdown",
   "metadata": {},
   "source": [
    "46. ПОИСК В ШИРИНУ  это алгоритм, позволящий перебрать при котором поиск рано или поздно пройдет по всей сети. Поиск в шириу позволяет ответить на 2 вопроса: 1) сущетсвует ли путь от узла А к узлу В? 2)как выглядит кратчайший путь от узла А к узлу Б?"
   ]
  },
  {
   "attachments": {},
   "cell_type": "markdown",
   "metadata": {},
   "source": [
    "47. FIFO (first in, first out) - списки и LIFO(last in first out) - стек. Это структуры данных"
   ]
  },
  {
   "attachments": {},
   "cell_type": "markdown",
   "metadata": {},
   "source": [
    "48. РЕАЛИЗАЦИЯ ГРАФА (чтобы показать связь я-друщья на фейсбук используем хеш таблица)"
   ]
  },
  {
   "cell_type": "code",
   "execution_count": 4,
   "metadata": {},
   "outputs": [],
   "source": [
    "graph={}\n",
    "graph['Tania'] = ['alice','bob','claire']\n",
    "graph['bob']=['anuj','peggy']\n",
    "graph['alice']=['peggy']\n",
    "graph['claire']=['thom','jonny']\n",
    "graph['anuj']=[]\n",
    "graph['peggy']=[]\n",
    "graph['thom']=[]\n",
    "graph['jonny']=[]"
   ]
  },
  {
   "attachments": {},
   "cell_type": "markdown",
   "metadata": {},
   "source": [
    "49. НАПРАВЛЕННЫЕ И НЕНАПРАВЛЕННЫЕ ГРАФЫ. (направленный - отношение дейтсвуют только в одну сторону, неправлаенныей - в обе стороны)\n",
    "ДЕРЕВО - это граф в котором нет ребе, указавыющих в братном направлении."
   ]
  },
  {
   "attachments": {},
   "cell_type": "markdown",
   "metadata": {},
   "source": [
    "50. РЕАЛИЗАЦИЯ АЛГОРИТМА ПОИСКА В ШИРИНУ."
   ]
  },
  {
   "cell_type": "code",
   "execution_count": 5,
   "metadata": {},
   "outputs": [],
   "source": [
    "def person_is_seller(name):\n",
    "    return name[-1] == 'm'"
   ]
  },
  {
   "cell_type": "code",
   "execution_count": 10,
   "metadata": {},
   "outputs": [],
   "source": [
    "from collections import deque\n",
    "def search(name):\n",
    "    search_queue = deque(name)\n",
    "    search_queue +=graph['name']\n",
    "    searched = []\n",
    "    while search_queue:\n",
    "        person = search_queue.popleft()\n",
    "        if not person in searched:\n",
    "            if person_is_seller(person):\n",
    "                print(f\"{person} is a mango seller!\")\n",
    "            return True\n",
    "        else:\n",
    "            search_queue += graph[person]\n",
    "            searched.append(person)\n",
    "        return False\n",
    "\n"
   ]
  },
  {
   "attachments": {},
   "cell_type": "markdown",
   "metadata": {},
   "source": [
    "51. Алгоритм Дейкстры. Предположим у нас есть граф и нам нужно найти самый быстрый способ дойти из одной точки в другую. \n",
    "Граф который у нас есть взвешенный (значит что каждое ребро имеет свои веса). Нужно выбрать путь который даст наименьший вес в результате при проходе из пункта А в пункт В. Применяется только к графу с неотрицательными весами ребер\n"
   ]
  },
  {
   "attachments": {},
   "cell_type": "markdown",
   "metadata": {},
   "source": [
    "52. РЕАЛИЗАЦИЯ Алгоритма Дейкстры"
   ]
  },
  {
   "attachments": {},
   "cell_type": "markdown",
   "metadata": {},
   "source": [
    "53. NP полные задачи. Это Невозможые задачи, для которых нет алгоритма для их быстрого решения"
   ]
  },
  {
   "attachments": {},
   "cell_type": "markdown",
   "metadata": {},
   "source": [
    "54. ЖАДНЫЕ АЛГОРИТМЫ - это те, на каждом шаге которого выбирается оптимальный вариант (локально-оптимальное решение)"
   ]
  },
  {
   "attachments": {},
   "cell_type": "markdown",
   "metadata": {},
   "source": [
    "55. КОЛИЧЕСТВО ВСЕХ ПОДМНОЖЕСТВО ДАНОГО МНОЖЕТСВА равна 2^n. (c(n,0) + c(n,1) + c(n,2) + c(n,3) + ... +c(n,n) = 2^n)"
   ]
  },
  {
   "attachments": {},
   "cell_type": "markdown",
   "metadata": {},
   "source": [
    "56. РЕАЛИЗАЦИЯ ЖАДНОГО АЛГОРИТМА в задаче о покрытие множества. \n",
    "Постановка задачи: есть список станций для радиовещания у каждого из которых есть список штатов которые эта станция покрывает.\n",
    "найти наилучшее покрытие этими станциями всех штатов.\n",
    "1) сначала находим станцию которая покрывает наибольшее количество штатов\n",
    "2) среди оставшихся выбираем станцию которая покрывает наибольшее кол-во станций\n",
    "3) делаем это до тех пор пока все штаты не будут покрыты.\n"
   ]
  },
  {
   "cell_type": "code",
   "execution_count": 2,
   "metadata": {},
   "outputs": [
    {
     "name": "stdout",
     "output_type": "stream",
     "text": [
      "{'kone', 'kfive', 'ktwo', 'kthree'}\n"
     ]
    }
   ],
   "source": [
    "states_needed = set([\"mt\", \"wa\", \"or\", \"id\", \"nv\", \"ut\", \"ca\", \"az\"])\n",
    "stations = {}\n",
    "stations[\"kone\"] = set([\"id\", \"nv\", \"ut\"])\n",
    "stations[\"ktwo\"] = set([\"wa\", \"id\", \"mt\"])\n",
    "stations[\"kthree\"] = set([\"or\", \"nv\", \"ca\"])\n",
    "stations[\"kfour\"] = set([\"nv\", \"ut\"])\n",
    "stations[\"kfive\"] = set([\"ca\", \"az\"])\n",
    "final_stations = set()\n",
    "while states_needed:\n",
    "    best_station = None\n",
    "    states_covered = set()\n",
    "    for station, states_for_station in stations.items():\n",
    "        covered = states_needed & states_for_station\n",
    "        if len(covered) > len(states_covered):\n",
    "            best_station = station\n",
    "            states_covered = covered\n",
    "    final_stations.add(best_station)\n",
    "    states_needed -= states_covered\n",
    "\n",
    "print(final_stations)"
   ]
  },
  {
   "attachments": {},
   "cell_type": "markdown",
   "metadata": {},
   "source": [
    "57. ДИНАМИЧЕСКОЕ ПРОГРАММИРОВАНИЕ - концепция, алгоритм который применяется для оптимизации какой-либо характеристики при заданных ограничениях. \n",
    "применяется в случаях, когда задача может быть разбита на втономные подзадачи.\n",
    "\n",
    "Пример: задача о вещах которые нужно положить в рюкзак. Строится таблицы\n",
    "Пример: задача на нахождение самой длинной общей подпоследовательности (человек вводит в поиск hish случайно и нужно предложить ему определение для слова fish)\n",
    "\n",
    "ЛИНЕЙНОЕ ПРОГРАММИРОВАНИЕ используется для максимизации  некоторой характеристики при ограниченных условиях"
   ]
  },
  {
   "attachments": {},
   "cell_type": "markdown",
   "metadata": {},
   "source": [
    "58. АЛГОРИТМ k БЛИЖАЙШИХ СОСЕДЕЙ\n",
    "Этот алгоритм применяется для КЛАССИФИКАЦИИ И РЕГРЕССИИ\n",
    "Классификация - распределение по категориям\n",
    "Регрессиия  - метод прогнозирования результата.\n",
    "Применяется в машинном обучениии"
   ]
  },
  {
   "attachments": {},
   "cell_type": "markdown",
   "metadata": {},
   "source": [
    "59. ДЕРЕВЬЯ\n",
    "Это как с бинарным поиском, спобос организации данных"
   ]
  }
 ],
 "metadata": {
  "kernelspec": {
   "display_name": ".venv",
   "language": "python",
   "name": "python3"
  },
  "language_info": {
   "codemirror_mode": {
    "name": "ipython",
    "version": 3
   },
   "file_extension": ".py",
   "mimetype": "text/x-python",
   "name": "python",
   "nbconvert_exporter": "python",
   "pygments_lexer": "ipython3",
   "version": "3.10.10"
  },
  "orig_nbformat": 4
 },
 "nbformat": 4,
 "nbformat_minor": 2
}
