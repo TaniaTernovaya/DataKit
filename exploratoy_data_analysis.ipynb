{
 "cells": [
  {
   "attachments": {},
   "cell_type": "markdown",
   "metadata": {},
   "source": [
    "РАЗВЕДЫВАТЕЛЬНЫЙ АНАЛИЗ ДАННЫХ\n",
    "\n",
    "1.О науке о данных.\n",
    "данные поступают из вешнего мира отовсюду: показаний датчиков, фотографий, видео, текст, последовательность нажатий клавиш пользователем. Все это данные. Фотографии представляют собой набор пикселов, а каждый из пикселов это информация о цвете (RGB). \n",
    "ГЛАВНАЯ ЗАДАЧА НАУКИ О ДАННЫХ - это переработать потки данных в информацию имеюющую практическое значение "
   ]
  },
  {
   "attachments": {},
   "cell_type": "markdown",
   "metadata": {},
   "source": [
    "2. ТИПЫ ДАННЫХ\n",
    "Базовые типы: числовые (непрерывная форма и дискретная) и категориальные(бинарные=двоичные=булевая величина и порядковые)"
   ]
  },
  {
   "attachments": {},
   "cell_type": "markdown",
   "metadata": {},
   "source": [
    "3. ПРЯМОУГОЛЬНЫЕ ДАННЫЕ - это общий термин для двумерной матрицы или таблицы. Строки=записи=экземпляр=случай=паттерн, столбцы=признаки=предсказатель=предиктор=атрибут\n",
    "КАДР ДАННЫХ = dataframe"
   ]
  },
  {
   "attachments": {},
   "cell_type": "markdown",
   "metadata": {},
   "source": [
    "4. БЫВАЮТ 2 РАЗМЕРНОСТИ (ОЦЕНКИ) В ОБОБЩЕНИИ ПРИЗНАКА: оценка центрального положения и оценка вариабельности = дисперсность\n",
    "Оценка центрального положения.\n",
    "Базовый шаг в разведывательном анализе данных - это определение типичного значения для каждого признка(столбца, переменной). Под типичным признаком будем понимать оценку того где распольжено большинство  данных (оценка центральной тенденции)"
   ]
  },
  {
   "cell_type": "code",
   "execution_count": null,
   "metadata": {},
   "outputs": [],
   "source": [
    "5. Ключевые термины оценок центрального положения:\n",
    " - среднее mean\n",
    " - среднее взвешенное weight mean\n",
    " - медиана median\n",
    " - медиана взвешенная weight median\n",
    " - среднее усеченное trimmed mean\n",
    " - робастное robust\n",
    " - выброс outlier"
   ]
  },
  {
   "attachments": {},
   "cell_type": "markdown",
   "metadata": {},
   "source": [
    "6. МЕДИАНА РОБАСТНАЯ ОЦЕНКА ЦЕНТРЕЛЬНОЙ ТЕНДЕНЦИИ. Так как она не находится под влиянием выбросов. Среднеее усеченное иногда альтернатива медиане.\n",
    "БАЗОВАЯ МЕТРИКА ОЦЕНКИ СРЕДНЕГО ПОЛОЖЕНИЯ - это среднее, но оно чувствительно в предельным значениям(выбросам)"
   ]
  },
  {
   "attachments": {},
   "cell_type": "markdown",
   "metadata": {},
   "source": [
    "7. ПРИМЕР ПРО УРОВЕНЬ УБИЙСТВ В ШТАТАХ"
   ]
  },
  {
   "cell_type": "code",
   "execution_count": 19,
   "metadata": {},
   "outputs": [
    {
     "data": {
      "text/plain": [
       "4.376359279149048"
      ]
     },
     "execution_count": 19,
     "metadata": {},
     "output_type": "execute_result"
    }
   ],
   "source": [
    "import pandas as pd\n",
    "import numpy as np\n",
    "\n",
    "state = pd.read_csv(\"/Users/tatanaternovaa/Documents/training-skills/table1.csv\")\n",
    "state[\"population\"].mean()\n",
    "np.average(state['murder_rate'],weights=state['population'])"
   ]
  },
  {
   "attachments": {},
   "cell_type": "markdown",
   "metadata": {},
   "source": [
    "8. ДИСПЕРСНОСТЬ или ОЦЕНКИ ВАРИАБЕЛЬНОСТИ это СТАТИСТИКИ ВАРИАБЕЛЬНОСТИ (размерность в обобщении признака), которая показывает насколько плотно сгруппированы значения данных (плотно или разбросаны)"
   ]
  },
  {
   "attachments": {},
   "cell_type": "markdown",
   "metadata": {},
   "source": [
    "9. Степени свободы (n или n-1) ??\n",
    "В формуле дисперсии иногда пишут в знаменателе n а иногда n-1. В общем при большом n это не имеет значения. Если в знаменателе поставить n-1 то истинные оценки дисперсии будут недооценины - такая оценка называется смещенной"
   ]
  },
  {
   "attachments": {},
   "cell_type": "markdown",
   "metadata": {},
   "source": [
    "10. ОЦЕНКА дисперсии:\n",
    "В наборе данных P процентиль называется таким значением, что P% и меньше принимает это значение или меньше его.\n",
    "Медиана это тоже самое что 50% персентиль.\n",
    "ОБЩЕПРИНЯТАЯ МЕРА ВАРИАБЕЛЬНОСТИ это разница между 25 и 75 процентилями (IQR)"
   ]
  },
  {
   "cell_type": "code",
   "execution_count": 22,
   "metadata": {},
   "outputs": [
    {
     "data": {
      "text/plain": [
       "1192984.75"
      ]
     },
     "execution_count": 22,
     "metadata": {},
     "output_type": "execute_result"
    }
   ],
   "source": [
    "state[\"population\"].std()\n",
    "state[\"population\"].quantile(0.75) - state[\"population\"].quantile(0.5)"
   ]
  },
  {
   "attachments": {},
   "cell_type": "markdown",
   "metadata": {},
   "source": [
    "11. РАЗВЕДЫВАНИЕ РАСПРЕДЕЛЕНИЯ ДАННЫХ (полезно знать как данные распределены в совокупности)\n",
    "Оценки вариабельности и центрального положения дают нам число по которому мы можем описать данные. Но часто полезно знать как распределны данные в совокупности."
   ]
  },
  {
   "attachments": {},
   "cell_type": "markdown",
   "metadata": {},
   "source": [
    "12. КОРОБЧАТЫЕ ДИАГРАММЫ (boxplot)\n",
    "Коробчатые диаграммы основаны на процентилях и дают быстрый способ визуализации распределения данных.\n",
    "Из диаграммы ниже сразу видно что медианная численность населения штатов равно 5 млн человек.\n",
    "Половина штатов имеет население от 2-ч миллионов до 7 миллионов и существуют некоторые выбросы с высоким населением.\n"
   ]
  },
  {
   "cell_type": "code",
   "execution_count": 23,
   "metadata": {},
   "outputs": [
    {
     "data": {
      "text/plain": [
       "Text(0, 0.5, 'population, million')"
      ]
     },
     "execution_count": 23,
     "metadata": {},
     "output_type": "execute_result"
    },
    {
     "data": {
      "image/png": "[encoded data removed]",
      "text/plain": [
       "<Figure size 640x480 with 1 Axes>"
      ]
     },
     "metadata": {},
     "output_type": "display_data"
    }
   ],
   "source": [
    "ax=(state['population']/1000000).plot.box()\n",
    "ax.set_ylabel('population, million')"
   ]
  },
  {
   "attachments": {},
   "cell_type": "markdown",
   "metadata": {},
   "source": [
    "13. ЧАСТОТНЫЕ ТАБЛИЦЫ И ДИАГРАММЫ \n",
    "Частотная таблица делит диапазон перемнной на равностоящие сегменты и сообщает о том сколько значений попадает в каждый сегмент\n",
    "гистограмма - это способ визуализации частотной таблицы"
   ]
  },
  {
   "cell_type": "code",
   "execution_count": 28,
   "metadata": {},
   "outputs": [
    {
     "data": {
      "text/plain": [
       "population\n",
       "(673687.275, 4364603.5]     4\n",
       "(4364603.5, 8018976.0]      3\n",
       "(33599583.5, 37253956.0]    1\n",
       "(8018976.0, 11673348.5]     0\n",
       "(11673348.5, 15327721.0]    0\n",
       "(15327721.0, 18982093.5]    0\n",
       "(18982093.5, 22636466.0]    0\n",
       "(22636466.0, 26290838.5]    0\n",
       "(26290838.5, 29945211.0]    0\n",
       "(29945211.0, 33599583.5]    0\n",
       "Name: count, dtype: int64"
      ]
     },
     "execution_count": 28,
     "metadata": {},
     "output_type": "execute_result"
    }
   ],
   "source": [
    "binned_pop = pd.cut(state[\"population\"], 10)\n",
    "binned_pop.value_counts()"
   ]
  },
  {
   "cell_type": "code",
   "execution_count": 35,
   "metadata": {},
   "outputs": [
    {
     "data": {
      "text/plain": [
       "Text(0.5, 0, 'population')"
      ]
     },
     "execution_count": 35,
     "metadata": {},
     "output_type": "execute_result"
    },
    {
     "data": {
      "image/png": "[encoded data removed]",
      "text/plain": [
       "<Figure size 400x400 with 1 Axes>"
      ]
     },
     "metadata": {},
     "output_type": "display_data"
    }
   ],
   "source": [
    "ax=(state['population']/1_000_000).plot.hist(figsize=(4,4))\n",
    "ax.set_xlabel('population')"
   ]
  },
  {
   "attachments": {},
   "cell_type": "markdown",
   "metadata": {},
   "source": [
    "14. ГРАФИКИ И ОЦЕНКИ ПЛОТНОСТИ\n",
    "С гистограммой тесно связан график плотности, которые показывает распределение значений данных в виде сплошной линии.\n",
    "График плотности можно рассматривать как сглаженную гистограмму"
   ]
  },
  {
   "cell_type": "code",
   "execution_count": 39,
   "metadata": {},
   "outputs": [
    {
     "name": "stderr",
     "output_type": "stream",
     "text": [
      "/Users/tatanaternovaa/Documents/training-skills/.venv/lib/python3.10/site-packages/numpy/lib/histograms.py:885: RuntimeWarning: divide by zero encountered in divide\n",
      "  return n/db/n.sum(), bin_edges\n",
      "/Users/tatanaternovaa/Documents/training-skills/.venv/lib/python3.10/site-packages/numpy/lib/histograms.py:885: RuntimeWarning: invalid value encountered in divide\n",
      "  return n/db/n.sum(), bin_edges\n"
     ]
    },
    {
     "data": {
      "text/plain": [
       "Text(0.5, 0, 'уровень убийств а 100000 человек')"
      ]
     },
     "execution_count": 39,
     "metadata": {},
     "output_type": "execute_result"
    },
    {
     "data": {
      "image/png": "[encoded data removed]",
      "text/plain": [
       "<Figure size 640x480 with 1 Axes>"
      ]
     },
     "metadata": {},
     "output_type": "display_data"
    }
   ],
   "source": [
    "ax=state['population'].plot.hist(density=True,xlim=[0,12],bins=range(1,12))\n",
    "state['murder_rate'].plot.density\n",
    "ax.set_xlabel('уровень убийств а 100000 человек')"
   ]
  },
  {
   "cell_type": "code",
   "execution_count": null,
   "metadata": {},
   "outputs": [],
   "source": []
  },
  {
   "attachments": {},
   "cell_type": "markdown",
   "metadata": {},
   "source": [
    "15. Разведывание двоичных и категориальных данных\n",
    "Как правило, категориальные данные обобщаются в долях и их можно визуализировать на столбиковой диаграмме."
   ]
  },
  {
   "cell_type": "code",
   "execution_count": 8,
   "metadata": {},
   "outputs": [
    {
     "data": {
      "image/png": "[encoded data removed]",
      "text/plain": [
       "<Figure size 400x400 with 1 Axes>"
      ]
     },
     "metadata": {},
     "output_type": "display_data"
    }
   ],
   "source": [
    "import pandas as pd\n",
    "dfw = pd.read_csv(\"/Users/tatanaternovaa/Documents/training-skills/table3.csv\")\n",
    "ax = dfw.transpose().plot.bar(figsize=(4,4),legend=False)\n"
   ]
  },
  {
   "attachments": {},
   "cell_type": "markdown",
   "metadata": {},
   "source": [
    "16. МАТЕМАТИЧЕСКОЕ ОЖИДАНИЕ (ожидаемое значение) - это сумма значений умнлженная на вероятность их наступления"
   ]
  }
 ],
 "metadata": {
  "kernelspec": {
   "display_name": ".venv",
   "language": "python",
   "name": "python3"
  },
  "language_info": {
   "codemirror_mode": {
    "name": "ipython",
    "version": 3
   },
   "file_extension": ".py",
   "mimetype": "text/x-python",
   "name": "python",
   "nbconvert_exporter": "python",
   "pygments_lexer": "ipython3",
   "version": "3.10.10"
  },
  "orig_nbformat": 4
 },
 "nbformat": 4,
 "nbformat_minor": 2
}
